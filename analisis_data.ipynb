{
 "cells": [
  {
   "attachments": {},
   "cell_type": "markdown",
   "metadata": {},
   "source": [
    "# Prueba Técnica\n",
    "\n",
    "**Autor:** Daniel Dávila Lesmes\n",
    "\n",
    "**Contacto** danielandresd998@gmail.com https://www.linkedin.com/in/danielandresd/\n"
   ]
  },
  {
   "attachments": {},
   "cell_type": "markdown",
   "metadata": {},
   "source": [
    "## Caso de negocio"
   ]
  },
  {
   "attachments": {},
   "cell_type": "markdown",
   "metadata": {},
   "source": [
    "\"La Caja Colombiana de Subsidio Familiar – Colsubsidio, es una compañía que pertenece al Sistema del Subsidio Familiar y al Sistema de Protección y Seguridad Social colombiano, que en sus más de 60 años se ha consolidado como la caja de compensación familiar de mayor cobertura del país. Su gestión, la desarrolla a través de la administración de recursos provenientes de las empresas aportantes y la prestación de servicios sociales para los trabajadores afiliados, sus familias y la población en general.\n",
    "\n",
    "Colsubsidio ha dividido la prestación de sus servicios en once diferentes unidades especializadas de servicio (UES) que ofrecen diferentes productos.\n",
    "\n",
    "En este caso, se requiere un análisis general del consumo individual en un periodo de tiempo y su penetración(*) en la población afiliada. Para tal fin en la carpeta data encontrará los siguientes archivos:\n",
    "\n",
    "Persona: Datos de las personas con afiliación vigente a la caja\n",
    "Empresa: Datos de la empresa aportante.\n",
    "Consumo: Bases de datos del consumos individuales de los productos Colsubsidio\n",
    "\n",
    "(*) Se define la penetración del servicio como la proporción de clientes afiliados respecto el total de clientes atendidos en un periodo de tiempo\""
   ]
  },
  {
   "attachments": {},
   "cell_type": "markdown",
   "metadata": {},
   "source": [
    "### Preguntas clave a responder\t\t\t\t\t\n",
    "\t"
   ]
  },
  {
   "attachments": {},
   "cell_type": "markdown",
   "metadata": {},
   "source": [
    "¿Existen temporadas de mayor venta de productos?\t\t\t\t\t\t\t\n",
    "\t\t\t\t\t\t\t\t\n",
    "¿Cuál es la participación de consumo de personas afiliadas y no afiliadas?\t\t\t\t\t\t\t\t\n",
    "\t\t\t\t\t\t\t\t\n",
    "\t\t\t\t\t\t\t\t\n",
    "¿Cuál es el consumo total por unidad de negocio?\t\t\t\t\t\t\t\t\n",
    "\t\t\t\t\t\t\t\t\n",
    "\t\t\t\t\t\t\t\t\n",
    "¿Cuáles son las unidades y productos de mayor uso en cada categoría?\t\t\t\t\t\t\t\t\n",
    "\t\t\t\t\t\t\t\t\n",
    "\t\t\t\t\t\t\t\t\n",
    "Identifique los clientes (afiliados y no afiliados) con mayor frecuencia de uso y mayor valor neto de venta.\t\t\t\t\t\t\t\t\n",
    "\t\t\t\t\t\t\t\t\n",
    "\t\t\t\t\t\t\t\t\n",
    "¿Cómo ha sido el porcentaje histórico de penetración en la población afiliada de los servicios Colsubsidio?\t\t\t\t\t\t\t\t\n",
    "\t\t\t\t\t\t\t\t\n",
    "\t\t\t\t\t\t\t\t\n",
    "¿Cuáles son los productos más consumidos en el cada segmento poblacional?\t\t\t\t\t\t\t\t\n",
    "\t\t\t\t\t\t\t\t\n",
    "\t\t\t\t\t\t\t\t\n",
    "¿Cuáles son las mejores empresas en cuanto a consumo individual de sus empleados?\t"
   ]
  },
  {
   "attachments": {},
   "cell_type": "markdown",
   "metadata": {},
   "source": [
    "## Desarrollo del ejercicio"
   ]
  },
  {
   "attachments": {},
   "cell_type": "markdown",
   "metadata": {},
   "source": [
    "### Importar librerías y módulos"
   ]
  },
  {
   "cell_type": "code",
   "execution_count": 49,
   "metadata": {},
   "outputs": [],
   "source": [
    "\"\"\" Importar modulos generales\"\"\"\n",
    "import numpy as np\n",
    "import matplotlib.pyplot as plt\n",
    "import pandas as pd"
   ]
  },
  {
   "attachments": {},
   "cell_type": "markdown",
   "metadata": {},
   "source": [
    "### Extraccion de datos"
   ]
  },
  {
   "cell_type": "code",
   "execution_count": 163,
   "metadata": {},
   "outputs": [],
   "source": [
    "\"\"\"Definir rutas de ubicación de los archivos\"\"\"\n",
    "data_folder= 'Data/' #Carpeta donde se almacenan los datasets de caracter lectura\n",
    "img_folder='Graficos/'\n",
    "#Ruta de los archivos\n",
    "consumos_path=data_folder+\"Consumo.csv\"\n",
    "empresas_path=data_folder+\"Empresa.csv\"\n",
    "personas_path=data_folder+\"Persona.csv\""
   ]
  },
  {
   "cell_type": "code",
   "execution_count": 51,
   "metadata": {},
   "outputs": [
    {
     "name": "stderr",
     "output_type": "stream",
     "text": [
      "C:\\Users\\danie\\AppData\\Local\\Temp\\ipykernel_25984\\514770695.py:2: FutureWarning: In a future version of pandas all arguments of read_csv except for the argument 'filepath_or_buffer' will be keyword-only.\n",
      "  consumos_df=pd.read_csv(consumos_path,\";\")\n",
      "C:\\Users\\danie\\AppData\\Local\\Temp\\ipykernel_25984\\514770695.py:3: FutureWarning: In a future version of pandas all arguments of read_csv except for the argument 'filepath_or_buffer' will be keyword-only.\n",
      "  empresas_df=pd.read_csv(empresas_path,\";\")\n",
      "C:\\Users\\danie\\AppData\\Local\\Temp\\ipykernel_25984\\514770695.py:4: FutureWarning: In a future version of pandas all arguments of read_csv except for the argument 'filepath_or_buffer' will be keyword-only.\n",
      "  personas_df=pd.read_csv(personas_path,\";\")\n"
     ]
    }
   ],
   "source": [
    "\"\"\"Crear DataFrames\"\"\"\n",
    "consumos_df=pd.read_csv(consumos_path,\";\")\n",
    "empresas_df=pd.read_csv(empresas_path,\";\")\n",
    "personas_df=pd.read_csv(personas_path,\";\")"
   ]
  },
  {
   "attachments": {},
   "cell_type": "markdown",
   "metadata": {},
   "source": [
    "### Transformacion de datos"
   ]
  },
  {
   "attachments": {},
   "cell_type": "markdown",
   "metadata": {},
   "source": [
    "#### Tabla Empresas"
   ]
  },
  {
   "cell_type": "code",
   "execution_count": 52,
   "metadata": {},
   "outputs": [
    {
     "name": "stdout",
     "output_type": "stream",
     "text": [
      "<class 'pandas.core.frame.DataFrame'>\n",
      "RangeIndex: 74045 entries, 0 to 74044\n",
      "Data columns (total 9 columns):\n",
      " #   Column               Non-Null Count  Dtype \n",
      "---  ------               --------------  ----- \n",
      " 0   id_empresa           74045 non-null  int64 \n",
      " 1   Piramide1            74045 non-null  object\n",
      " 2   Piramide2            74045 non-null  object\n",
      " 3   cx_empresa           41522 non-null  object\n",
      " 4   cy_empresa           41522 non-null  object\n",
      " 5   DepartamentoEmpresa  41802 non-null  object\n",
      " 6   MunicipioEmpresa     41802 non-null  object\n",
      " 7   SectorCIIU           74045 non-null  object\n",
      " 8   DescripcionCIIU      74045 non-null  object\n",
      "dtypes: int64(1), object(8)\n",
      "memory usage: 5.1+ MB\n"
     ]
    }
   ],
   "source": [
    "\"\"\"Verificar datos nulos por columna\"\"\"\n",
    "empresas_df.info()"
   ]
  },
  {
   "cell_type": "code",
   "execution_count": 53,
   "metadata": {},
   "outputs": [],
   "source": [
    "\"\"\"Eliminar columnas que no se van a utilizar\"\"\"\n",
    "empresas_df = empresas_df.drop(['cx_empresa', 'cy_empresa'], axis=1)"
   ]
  },
  {
   "cell_type": "code",
   "execution_count": 54,
   "metadata": {},
   "outputs": [
    {
     "data": {
      "text/plain": [
       "0"
      ]
     },
     "execution_count": 54,
     "metadata": {},
     "output_type": "execute_result"
    }
   ],
   "source": [
    "\"\"\"Validar que no existan registros con id duplicado\"\"\"\n",
    "empresas_df['id_empresa'].duplicated().sum()"
   ]
  },
  {
   "cell_type": "code",
   "execution_count": 55,
   "metadata": {},
   "outputs": [],
   "source": [
    "\"\"\"Llenar campos vacíos de las columnas Dpto y municipio\"\"\"\n",
    "empresas_df['DepartamentoEmpresa'] = empresas_df['DepartamentoEmpresa'].fillna('DESCONOCIDO')\n",
    "empresas_df['MunicipioEmpresa'] = empresas_df['MunicipioEmpresa'].fillna('DESCONOCIDO')"
   ]
  },
  {
   "cell_type": "code",
   "execution_count": 56,
   "metadata": {},
   "outputs": [],
   "source": [
    "\"\"\"Unificar formato de los campos de texto\"\"\"\n",
    "empresas_df['DepartamentoEmpresa']=empresas_df['DepartamentoEmpresa'].str.strip().str.upper()\n",
    "empresas_df['MunicipioEmpresa']=empresas_df['MunicipioEmpresa'].str.strip().str.upper()\n",
    "empresas_df['Piramide1']=empresas_df['Piramide1'].str.strip().str.upper()\n",
    "empresas_df['Piramide2']=empresas_df['Piramide2'].str.strip().str.upper()"
   ]
  },
  {
   "cell_type": "code",
   "execution_count": 57,
   "metadata": {},
   "outputs": [
    {
     "name": "stdout",
     "output_type": "stream",
     "text": [
      "['4 MICRO', '1 EMP GRANDES', '3 EMPRESAS PYMES', '2 EMP MEDIO', '5 MICRO']\n",
      "['4.5 TRANSACCIONAL', '4.8 TRANSACCIONAL - PENSIONADO', '1.2 PREMIUM', '3.2 VIP ESTÁNDAR', '4.1 ESTÁNDAR', '3.1 VIP', '4.7 TRANSACCIONAL - INDEPENDIENTE', '2.1 GOLD', '4.3 TRANS.JURIDICA ENT. 11 A 99 TRAB.', '2.2 SILVER', '4.6 TRANSACCIONAL - FACULTATIVO', '1.1 PLATINUM', '4.2 TRANS. MAS DE 100 TRAB.', '5.1 COLSUBSIDIO', '4.4 TRANS.NATURAL ENT. 11 A 99 TRAB.']\n"
     ]
    }
   ],
   "source": [
    "\"\"\"Ver categorias de empresa (Validar que no existan repetidos)\"\"\"\n",
    "print(list(empresas_df['Piramide1'].unique()))\n",
    "print(list(empresas_df['Piramide2'].unique()))"
   ]
  },
  {
   "attachments": {},
   "cell_type": "markdown",
   "metadata": {},
   "source": [
    "#### Tabla Personas"
   ]
  },
  {
   "cell_type": "code",
   "execution_count": 58,
   "metadata": {},
   "outputs": [
    {
     "name": "stdout",
     "output_type": "stream",
     "text": [
      "<class 'pandas.core.frame.DataFrame'>\n",
      "RangeIndex: 594191 entries, 0 to 594190\n",
      "Data columns (total 14 columns):\n",
      " #   Column                   Non-Null Count   Dtype  \n",
      "---  ------                   --------------   -----  \n",
      " 0   NumIdPersona             594191 non-null  int64  \n",
      " 1   id_empresa               594191 non-null  int64  \n",
      " 2   Genero                   594191 non-null  object \n",
      " 3   FechaNacimiento          594191 non-null  object \n",
      " 4   Edad                     594191 non-null  int64  \n",
      " 5   Salario                  594191 non-null  int64  \n",
      " 6   Categoria                594191 non-null  object \n",
      " 7   Segmento_poblacional     594191 non-null  object \n",
      " 8   segmento_grupo_familiar  455668 non-null  object \n",
      " 9   cx_persona               405040 non-null  object \n",
      " 10  cy_persona               405040 non-null  object \n",
      " 11  DepartamentoPersona      466530 non-null  object \n",
      " 12  MunicipioPersona         466530 non-null  object \n",
      " 13  EstratoPersona           369316 non-null  float64\n",
      "dtypes: float64(1), int64(4), object(9)\n",
      "memory usage: 63.5+ MB\n"
     ]
    }
   ],
   "source": [
    "\"\"\"Ver informacion de la tabla personas\"\"\"\n",
    "personas_df.info()"
   ]
  },
  {
   "cell_type": "code",
   "execution_count": 59,
   "metadata": {},
   "outputs": [],
   "source": [
    "\"\"\"Cambiar tipo de datos de las columnas que no tienen el tipo correcto\"\"\"\n",
    "personas_df['EstratoPersona']=personas_df['EstratoPersona'].astype('Int64')\n",
    "personas_df['FechaNacimiento']=personas_df['FechaNacimiento'].astype('datetime64[ns]')"
   ]
  },
  {
   "cell_type": "code",
   "execution_count": 60,
   "metadata": {},
   "outputs": [
    {
     "data": {
      "text/plain": [
       "NumIdPersona                0.000000\n",
       "id_empresa                  0.000000\n",
       "Genero                      0.000000\n",
       "FechaNacimiento             0.000000\n",
       "Edad                        0.000000\n",
       "Salario                     0.000000\n",
       "Categoria                   0.000000\n",
       "Segmento_poblacional        0.000000\n",
       "segmento_grupo_familiar    23.312874\n",
       "cx_persona                 31.833367\n",
       "cy_persona                 31.833367\n",
       "DepartamentoPersona        21.484842\n",
       "MunicipioPersona           21.484842\n",
       "EstratoPersona             37.845575\n",
       "dtype: float64"
      ]
     },
     "execution_count": 60,
     "metadata": {},
     "output_type": "execute_result"
    }
   ],
   "source": [
    "\"\"\"Contar valores nulos\"\"\"\n",
    "personas_df.isnull().sum()/len(personas_df)*100 ##Porcentaje de datos nulos"
   ]
  },
  {
   "cell_type": "code",
   "execution_count": 61,
   "metadata": {},
   "outputs": [],
   "source": [
    "\"\"\"Eliminar columnas con vacíos que no son representativas para el análisis\"\"\"\n",
    "personas_df = personas_df.drop(['cx_persona', 'cy_persona'], axis=1)"
   ]
  },
  {
   "cell_type": "code",
   "execution_count": 62,
   "metadata": {},
   "outputs": [
    {
     "data": {
      "text/plain": [
       "0"
      ]
     },
     "execution_count": 62,
     "metadata": {},
     "output_type": "execute_result"
    }
   ],
   "source": [
    "\"\"\"Validar id persona que no tenga duplicados\"\"\"\n",
    "personas_df['NumIdPersona'].duplicated().sum()"
   ]
  },
  {
   "cell_type": "code",
   "execution_count": 63,
   "metadata": {},
   "outputs": [
    {
     "data": {
      "text/html": [
       "<div>\n",
       "<style scoped>\n",
       "    .dataframe tbody tr th:only-of-type {\n",
       "        vertical-align: middle;\n",
       "    }\n",
       "\n",
       "    .dataframe tbody tr th {\n",
       "        vertical-align: top;\n",
       "    }\n",
       "\n",
       "    .dataframe thead th {\n",
       "        text-align: right;\n",
       "    }\n",
       "</style>\n",
       "<table border=\"1\" class=\"dataframe\">\n",
       "  <thead>\n",
       "    <tr style=\"text-align: right;\">\n",
       "      <th></th>\n",
       "      <th>NumIdPersona</th>\n",
       "      <th>id_empresa</th>\n",
       "      <th>Genero</th>\n",
       "      <th>FechaNacimiento</th>\n",
       "      <th>Edad</th>\n",
       "      <th>Salario</th>\n",
       "      <th>Categoria</th>\n",
       "      <th>Segmento_poblacional</th>\n",
       "      <th>segmento_grupo_familiar</th>\n",
       "      <th>DepartamentoPersona</th>\n",
       "      <th>MunicipioPersona</th>\n",
       "      <th>EstratoPersona</th>\n",
       "    </tr>\n",
       "  </thead>\n",
       "  <tbody>\n",
       "    <tr>\n",
       "      <th>0</th>\n",
       "      <td>1174205</td>\n",
       "      <td>56353</td>\n",
       "      <td>F</td>\n",
       "      <td>1968-01-01</td>\n",
       "      <td>52</td>\n",
       "      <td>1800000</td>\n",
       "      <td>B</td>\n",
       "      <td>Medio</td>\n",
       "      <td>NaN</td>\n",
       "      <td>NaN</td>\n",
       "      <td>NaN</td>\n",
       "      <td>&lt;NA&gt;</td>\n",
       "    </tr>\n",
       "    <tr>\n",
       "      <th>1</th>\n",
       "      <td>800759</td>\n",
       "      <td>13625</td>\n",
       "      <td>M</td>\n",
       "      <td>1930-11-10</td>\n",
       "      <td>88</td>\n",
       "      <td>4139944</td>\n",
       "      <td>C</td>\n",
       "      <td>Medio</td>\n",
       "      <td>PAREJA CONYUGAL</td>\n",
       "      <td>DISTRITO CAPITAL</td>\n",
       "      <td>BOGOTA D.C.</td>\n",
       "      <td>5</td>\n",
       "    </tr>\n",
       "  </tbody>\n",
       "</table>\n",
       "</div>"
      ],
      "text/plain": [
       "   NumIdPersona  id_empresa Genero FechaNacimiento  Edad  Salario Categoria  \\\n",
       "0       1174205       56353      F      1968-01-01    52  1800000         B   \n",
       "1        800759       13625      M      1930-11-10    88  4139944         C   \n",
       "\n",
       "  Segmento_poblacional segmento_grupo_familiar DepartamentoPersona  \\\n",
       "0                Medio                     NaN                 NaN   \n",
       "1                Medio         PAREJA CONYUGAL    DISTRITO CAPITAL   \n",
       "\n",
       "  MunicipioPersona  EstratoPersona  \n",
       "0              NaN            <NA>  \n",
       "1      BOGOTA D.C.               5  "
      ]
     },
     "execution_count": 63,
     "metadata": {},
     "output_type": "execute_result"
    }
   ],
   "source": [
    "\"\"\"Ver campos\"\"\"\n",
    "personas_df.head(2)"
   ]
  },
  {
   "cell_type": "code",
   "execution_count": 64,
   "metadata": {},
   "outputs": [],
   "source": [
    "\"\"\"Transformar formatos de los datos\"\"\"\n",
    "personas_df['Genero']=personas_df['Genero'].str.strip().str.upper()\n",
    "personas_df['Categoria']=personas_df['Categoria'].str.strip().str.upper()\n",
    "personas_df['Segmento_poblacional']=personas_df['Segmento_poblacional'].str.strip().str.upper()\n",
    "personas_df['segmento_grupo_familiar']=personas_df['segmento_grupo_familiar'].str.strip().str.upper()\n",
    "personas_df['DepartamentoPersona']=personas_df['DepartamentoPersona'].str.strip().str.upper()\n",
    "personas_df['MunicipioPersona']=personas_df['MunicipioPersona'].str.strip().str.upper()"
   ]
  },
  {
   "cell_type": "code",
   "execution_count": 65,
   "metadata": {},
   "outputs": [
    {
     "name": "stdout",
     "output_type": "stream",
     "text": [
      "['F', 'M', '1']\n",
      "['B', 'C', 'A']\n",
      "['MEDIO', 'BÁSICO', 'ALTO', 'JOVEN']\n",
      "[nan, 'PAREJA CONYUGAL', 'FAMILIA NUCLEAR INTEGRAL', 'FAMILIA MONOPARENTERAL', 'FAMILIA MONPARENTERAL AMPLIADA', 'FAMILIA NUCLEAR AMPLIADA', 'AFILIADO SIN GRUPO FAMILIAR']\n",
      "[<NA>, 5, 4, 3, 2, 6, 0, 1]\n"
     ]
    }
   ],
   "source": [
    "\"\"\"Verificar que las variavles categoricas no queden con duplicados\"\"\"\n",
    "print(list(personas_df['Genero'].unique()))\n",
    "print(list(personas_df['Categoria'].unique()))\n",
    "print(list(personas_df['Segmento_poblacional'].unique()))\n",
    "print(list(personas_df['segmento_grupo_familiar'].unique()))\n",
    "print(list(personas_df['EstratoPersona'].unique()))"
   ]
  },
  {
   "cell_type": "code",
   "execution_count": 66,
   "metadata": {},
   "outputs": [
    {
     "name": "stdout",
     "output_type": "stream",
     "text": [
      "['DESCONOCIDO', 'PAREJA CONYUGAL', 'FAMILIA NUCLEAR INTEGRAL', 'FAMILIA MONOPARENTERAL', 'FAMILIA MONPARENTERAL AMPLIADA', 'FAMILIA NUCLEAR AMPLIADA', 'AFILIADO SIN GRUPO FAMILIAR']\n"
     ]
    }
   ],
   "source": [
    "\"\"\"Llenar registros vacios de la categoría segmento grupo familiar\"\"\"\n",
    "personas_df['segmento_grupo_familiar'] = personas_df['segmento_grupo_familiar'].fillna('DESCONOCIDO')\n",
    "print(list(personas_df['segmento_grupo_familiar'].unique()))"
   ]
  },
  {
   "attachments": {},
   "cell_type": "markdown",
   "metadata": {},
   "source": [
    "#### Tabla Consumos"
   ]
  },
  {
   "cell_type": "code",
   "execution_count": 67,
   "metadata": {},
   "outputs": [
    {
     "name": "stdout",
     "output_type": "stream",
     "text": [
      "<class 'pandas.core.frame.DataFrame'>\n",
      "RangeIndex: 984563 entries, 0 to 984562\n",
      "Data columns (total 6 columns):\n",
      " #   Column            Non-Null Count   Dtype \n",
      "---  ------            --------------   ----- \n",
      " 0   NumIdPersona      984563 non-null  int64 \n",
      " 1   Periodo           984563 non-null  int64 \n",
      " 2   Valor             984563 non-null  object\n",
      " 3   NumTransacciones  984563 non-null  int64 \n",
      " 4   UES               983517 non-null  object\n",
      " 5   Producto          983228 non-null  object\n",
      "dtypes: int64(3), object(3)\n",
      "memory usage: 45.1+ MB\n"
     ]
    }
   ],
   "source": [
    "consumos_df.info()"
   ]
  },
  {
   "cell_type": "code",
   "execution_count": 68,
   "metadata": {},
   "outputs": [
    {
     "name": "stdout",
     "output_type": "stream",
     "text": [
      "NumIdPersona        0.000000\n",
      "Periodo             0.000000\n",
      "Valor               0.000000\n",
      "NumTransacciones    0.000000\n",
      "UES                 0.106240\n",
      "Producto            0.135593\n",
      "dtype: float64\n"
     ]
    }
   ],
   "source": [
    "\"\"\"Ver porcentaje de datos nulos por columna\"\"\"\n",
    "print(consumos_df.isnull().sum()/len(consumos_df)*100)"
   ]
  },
  {
   "cell_type": "code",
   "execution_count": 69,
   "metadata": {},
   "outputs": [],
   "source": [
    "\"\"\"Cambiar formato de fecha del periodo\"\"\"\n",
    "consumos_df['Periodo']=pd.to_datetime(consumos_df['Periodo'], format='%Y%m')\n",
    "consumos_df['Valor']=consumos_df['Valor'].str.replace(',', '.').astype(float)\n"
   ]
  },
  {
   "cell_type": "code",
   "execution_count": 70,
   "metadata": {},
   "outputs": [
    {
     "data": {
      "text/html": [
       "<div>\n",
       "<style scoped>\n",
       "    .dataframe tbody tr th:only-of-type {\n",
       "        vertical-align: middle;\n",
       "    }\n",
       "\n",
       "    .dataframe tbody tr th {\n",
       "        vertical-align: top;\n",
       "    }\n",
       "\n",
       "    .dataframe thead th {\n",
       "        text-align: right;\n",
       "    }\n",
       "</style>\n",
       "<table border=\"1\" class=\"dataframe\">\n",
       "  <thead>\n",
       "    <tr style=\"text-align: right;\">\n",
       "      <th></th>\n",
       "      <th>NumIdPersona</th>\n",
       "      <th>Periodo</th>\n",
       "      <th>Valor</th>\n",
       "      <th>NumTransacciones</th>\n",
       "      <th>UES</th>\n",
       "      <th>Producto</th>\n",
       "    </tr>\n",
       "  </thead>\n",
       "  <tbody>\n",
       "    <tr>\n",
       "      <th>0</th>\n",
       "      <td>708858</td>\n",
       "      <td>2020-01-01</td>\n",
       "      <td>675161.0</td>\n",
       "      <td>5</td>\n",
       "      <td>Mercadeo Social</td>\n",
       "      <td>Supermercados</td>\n",
       "    </tr>\n",
       "    <tr>\n",
       "      <th>1</th>\n",
       "      <td>941811</td>\n",
       "      <td>2020-02-01</td>\n",
       "      <td>30597.0</td>\n",
       "      <td>1</td>\n",
       "      <td>Mercadeo Social</td>\n",
       "      <td>Supermercados</td>\n",
       "    </tr>\n",
       "  </tbody>\n",
       "</table>\n",
       "</div>"
      ],
      "text/plain": [
       "   NumIdPersona    Periodo     Valor  NumTransacciones              UES  \\\n",
       "0        708858 2020-01-01  675161.0                 5  Mercadeo Social   \n",
       "1        941811 2020-02-01   30597.0                 1  Mercadeo Social   \n",
       "\n",
       "        Producto  \n",
       "0  Supermercados  \n",
       "1  Supermercados  "
      ]
     },
     "execution_count": 70,
     "metadata": {},
     "output_type": "execute_result"
    }
   ],
   "source": [
    "consumos_df.head(2)"
   ]
  },
  {
   "cell_type": "code",
   "execution_count": 72,
   "metadata": {},
   "outputs": [],
   "source": [
    "\"\"\"Llenar datos nulos de las columnas UES y Supermercados\"\"\"\n",
    "consumos_df['UES']=consumos_df['UES'].fillna('DESCONOCIDO')\n",
    "consumos_df['Producto']=consumos_df['Producto'].fillna('DESCONOCIDO')"
   ]
  }
 ],
 "metadata": {
  "kernelspec": {
   "display_name": "Python 3",
   "language": "python",
   "name": "python3"
  },
  "language_info": {
   "codemirror_mode": {
    "name": "ipython",
    "version": 3
   },
   "file_extension": ".py",
   "mimetype": "text/x-python",
   "name": "python",
   "nbconvert_exporter": "python",
   "pygments_lexer": "ipython3",
   "version": "3.10.11"
  },
  "orig_nbformat": 4
 },
 "nbformat": 4,
 "nbformat_minor": 2
}
